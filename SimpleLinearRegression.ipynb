{
  "nbformat": 4,
  "nbformat_minor": 0,
  "metadata": {
    "colab": {
      "name": "SimpleLinearRegression.ipynb",
      "provenance": []
    },
    "kernelspec": {
      "name": "python3",
      "display_name": "Python 3"
    }
  },
  "cells": [
    {
      "cell_type": "markdown",
      "metadata": {
        "id": "k4tYXQ2dVE3V"
      },
      "source": [
        "### Simple Linear Regression From Scratch\n",
        "1 import the libraries\n",
        "\n",
        "2 Generate Random Input Data to train\n",
        "\n",
        "3 Create targets\n",
        "\n",
        "4 plot the Datas to visualize\n",
        "\n",
        "5 Create weights and Biases\n",
        "\n",
        "6 Set a learning Rate"
      ]
    },
    {
      "cell_type": "markdown",
      "metadata": {
        "id": "vsvvcI5Wrjl-"
      },
      "source": [
        "###1 Importing the relevant Libraries"
      ]
    },
    {
      "cell_type": "code",
      "metadata": {
        "id": "O8HJ0XU1Udxn"
      },
      "source": [
        "###Importing numpy to perform mathemathical operations\n",
        "import numpy as np\n",
        "###Importing Matplotlib for the visulization of the dataset\n",
        "###Importing Axes3D to plot 3D grapical reprentation of the result\n",
        "import matplotlib.pyplot as plt\n",
        "from mpl_toolkits.mplot3d import Axes3D"
      ],
      "execution_count": 24,
      "outputs": []
    },
    {
      "cell_type": "markdown",
      "metadata": {
        "id": "umT5D6SMsVuf"
      },
      "source": [
        "###2 Generate Random Input Data to train on\n",
        "\n"
      ]
    },
    {
      "cell_type": "code",
      "metadata": {
        "id": "AoCOySwkWNWl",
        "outputId": "676a6936-c8af-40bc-fb20-db6990474a4e",
        "colab": {
          "base_uri": "https://localhost:8080/",
          "height": 153
        }
      },
      "source": [
        "#Mentioning the size of data as input_data \n",
        "input_data = 5000\n",
        "\n",
        "#x and z are the inputs \n",
        "#we are generating the data uniformly by np.random.uniform(),which have 3 parametrs : low,high,size\n",
        "x = np.random.uniform(-10,10,size = (input_data,1))\n",
        "z = np.random.uniform(-10,10,size= (input_data,1))\n",
        "\n",
        "#we are taking a variable input in which both the input varibale are stored\n",
        "#The column_stack fun returns in array formatted way by stacking the given array \n",
        "#It simply combines two vectors into a matrix\n",
        "input = np.column_stack((x,z))\n",
        "\n",
        "#To check whether the column_stack is returning the matrix foramt\n",
        "print(input)\n",
        "\n",
        "#checking whether the Size of the input_data is same\n",
        "input.shape\n"
      ],
      "execution_count": 25,
      "outputs": [
        {
          "output_type": "stream",
          "text": [
            "[[ 4.57988129 -7.55245302]\n",
            " [-2.42433648  5.34841928]\n",
            " [-8.11362262 -7.79239311]\n",
            " ...\n",
            " [ 6.68352456  7.95276536]\n",
            " [-9.75974107 -5.39628591]\n",
            " [ 8.87332811  3.59807588]]\n"
          ],
          "name": "stdout"
        },
        {
          "output_type": "execute_result",
          "data": {
            "text/plain": [
              "(5000, 2)"
            ]
          },
          "metadata": {
            "tags": []
          },
          "execution_count": 25
        }
      ]
    },
    {
      "cell_type": "markdown",
      "metadata": {
        "id": "gFtmmYyd3s8-"
      },
      "source": [
        "###3 Clearing target values"
      ]
    },
    {
      "cell_type": "code",
      "metadata": {
        "id": "iKYVjzHVWNc9",
        "outputId": "50c2aebd-71ae-4e8d-e92c-9793c2b9b3f7",
        "colab": {
          "base_uri": "https://localhost:8080/",
          "height": 34
        }
      },
      "source": [
        "#here we are intilization of noise uniformly\n",
        "#noise is unnecessary features or elemnets present in our dataset \n",
        "noise = np.random.uniform(-1,1,size= (input_data,1))\n",
        "\n",
        "#the equation adding noise is lets say y = 2x +6y+c+noise\n",
        "target = 6*x+3*z+7+noise\n",
        "\n",
        "#checking the the shape of target variable is it should the the same  \n",
        "target.shape"
      ],
      "execution_count": 32,
      "outputs": [
        {
          "output_type": "execute_result",
          "data": {
            "text/plain": [
              "(5000, 1)"
            ]
          },
          "metadata": {
            "tags": []
          },
          "execution_count": 32
        }
      ]
    },
    {
      "cell_type": "markdown",
      "metadata": {
        "id": "zb9WCyWRxNxy"
      },
      "source": [
        "###4 Plotting the data for visualization"
      ]
    },
    {
      "cell_type": "code",
      "metadata": {
        "id": "TFQ8cJItWNuL",
        "outputId": "62c4f1c4-cc60-4e73-c1b5-b445f64e3f12",
        "colab": {
          "base_uri": "https://localhost:8080/",
          "height": 248
        }
      },
      "source": [
        "target = target.reshape(input_data,)\n",
        "\n",
        "#Declare the figure\n",
        "fig = plt.figure()\n",
        "\n",
        "#This fun or method will create the  3D plot \n",
        "ax = fig.add_subplot(111,projection = \"3d\")\n",
        "\n",
        "#choose the axes\n",
        "ax.plot(x,z,target)\n",
        "\n",
        "#set the labels\n",
        "ax.set_xlabel(\"x\")\n",
        "ax.set_ylabel(\"z\")\n",
        "ax.set_zlabel(\"target\")\n",
        "\n",
        "\n",
        "ax.view_init(azim = 100)\n",
        "\n",
        "#This method will show the plot\n",
        "plt.show()"
      ],
      "execution_count": null,
      "outputs": [
        {
          "output_type": "display_data",
          "data": {
            "image/png": "[encoded data removed]",
            "text/plain": [
              "<Figure size 432x288 with 1 Axes>"
            ]
          },
          "metadata": {
            "tags": [],
            "needs_background": "light"
          }
        }
      ]
    },
    {
      "cell_type": "markdown",
      "metadata": {
        "id": "9PnoEDEkxgat"
      },
      "source": [
        "###5 Creating Weight(w) and bias(c)\n",
        "\n"
      ]
    },
    {
      "cell_type": "code",
      "metadata": {
        "id": "cRzCMbZNWNzw"
      },
      "source": [
        "#The mathematical equation is y = mx+c\n",
        "#The same mathematical equation used here us represented as y = xw+b\n",
        "#w is the weight and b is the bias\n",
        "\n",
        "\n",
        "#we are generating a target varible \n",
        "target = target.reshape(input_data,1)\n",
        "\n",
        "# we will be intizaling the weights and bias with small initial values\n",
        "#the init_range will measure it\n",
        "init_range = 0.1\n",
        "\n",
        "#Here both the weights and bias are being initialized uniformly with the random function\n",
        "#There are three parameters :the initial range,the size of the range,the size of matrix = m*n\n",
        "weights = np.random.uniform(-init_range,init_range,size=(2,1))\n",
        "bias =np.random.uniform(-init_range,init_range,size = 1)\n"
      ],
      "execution_count": null,
      "outputs": []
    },
    {
      "cell_type": "markdown",
      "metadata": {
        "id": "E56Bte_qzFup"
      },
      "source": [
        "###6 Setting a value to learning rate"
      ]
    },
    {
      "cell_type": "code",
      "metadata": {
        "id": "QC3mU7IwyCDb"
      },
      "source": [
        "#The learning rate is a tuning parameter in an optimization algorithm \n",
        "#It determines the step size at each iteration while moving toward a minimum of a loss function\n",
        "#loss function or RMSE is nothing but Errors\n",
        "learning_rate = 0.02"
      ],
      "execution_count": null,
      "outputs": []
    },
    {
      "cell_type": "markdown",
      "metadata": {
        "id": "wtNMGMOjx4iw"
      },
      "source": [
        "###7 Training the model"
      ]
    },
    {
      "cell_type": "code",
      "metadata": {
        "id": "QeFWlzvDWN5X"
      },
      "source": [
        "#\n",
        "for i in range(100):\n",
        "  output = np.dot(input,weights)+bias\n",
        "  delta = output-target\n",
        "  loss = np.sum(delta**2)/2/input_data\n",
        "  print(loss)\n",
        "  delta_scale = delta/input_data\n",
        "  weights = weights-learning_rate*np.dot(input.T,delta_scale)\n",
        "  bias = bias-learning_rate*np.sum(delta_scale)"
      ],
      "execution_count": null,
      "outputs": []
    },
    {
      "cell_type": "code",
      "metadata": {
        "id": "FyoeqaHCWN-L"
      },
      "source": [
        "print(weights,bias)"
      ],
      "execution_count": null,
      "outputs": []
    },
    {
      "cell_type": "code",
      "metadata": {
        "id": "AuWcEcoxWOD6"
      },
      "source": [
        ""
      ],
      "execution_count": null,
      "outputs": []
    },
    {
      "cell_type": "code",
      "metadata": {
        "id": "NZgCAznVWOI5"
      },
      "source": [
        ""
      ],
      "execution_count": null,
      "outputs": []
    },
    {
      "cell_type": "code",
      "metadata": {
        "id": "wvh_yu-rWONy"
      },
      "source": [
        ""
      ],
      "execution_count": null,
      "outputs": []
    },
    {
      "cell_type": "code",
      "metadata": {
        "id": "zDdqtDLoWOSs"
      },
      "source": [
        ""
      ],
      "execution_count": null,
      "outputs": []
    },
    {
      "cell_type": "code",
      "metadata": {
        "id": "TlQ1siP1WOYY"
      },
      "source": [
        ""
      ],
      "execution_count": null,
      "outputs": []
    },
    {
      "cell_type": "code",
      "metadata": {
        "id": "cGwpUYr0WOeK"
      },
      "source": [
        ""
      ],
      "execution_count": null,
      "outputs": []
    },
    {
      "cell_type": "code",
      "metadata": {
        "id": "ym811dLMWOkE"
      },
      "source": [
        ""
      ],
      "execution_count": null,
      "outputs": []
    },
    {
      "cell_type": "markdown",
      "metadata": {
        "id": "ya97Ax1YVENs"
      },
      "source": [
        ""
      ]
    }
  ]
}